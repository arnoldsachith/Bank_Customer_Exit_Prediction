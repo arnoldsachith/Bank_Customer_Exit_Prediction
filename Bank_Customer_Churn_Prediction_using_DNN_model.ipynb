{
 "cells": [
  {
   "cell_type": "code",
   "execution_count": 1,
   "metadata": {},
   "outputs": [],
   "source": [
    "import torch\n",
    "import torch.nn as nn\n",
    "import torch.nn.functional as F\n",
    "from torch.autograd import Variable\n",
    "import torch.utils.data as utils\n",
    "import torch.utils.data as td\n",
    "torch.manual_seed(1234)\n",
    "import pandas as pd\n",
    "from sklearn.model_selection import train_test_split\n",
    "#from sklearn.datasets import load_iris"
   ]
  },
  {
   "cell_type": "code",
   "execution_count": 2,
   "metadata": {},
   "outputs": [],
   "source": [
    "#Custom Model\n",
    "class IrisNet1(nn.Module):\n",
    "\n",
    "    def __init__(self,input_size,h1,h2,output):\n",
    "        super(IrisNet1, self).__init__()\n",
    "   \n",
    "        self.fc1   = nn.Linear(input_size, h1)\n",
    "        self.relu1 = nn.ReLU()\n",
    "        self.fc2   = nn.Linear(h1, h2)\n",
    "        self.relu2 = nn.ReLU()\n",
    "        self.fc3   = nn.Linear(h2,output)    \n",
    "\n",
    "    def forward(self, x):\n",
    "        out = self.fc1(x)\n",
    "        out = self.relu1(out)\n",
    "        out = self.fc2(out)\n",
    "        out = self.relu2(out)\n",
    "        out = self.fc3(out)\n",
    "        \n",
    "        return out  "
   ]
  },
  {
   "cell_type": "code",
   "execution_count": 3,
   "metadata": {},
   "outputs": [],
   "source": [
    "# Hyperparameters\n",
    "\n",
    "learning_rate = 0.01\n",
    "learning_momentum = 0.9\n",
    "input_size=12\n",
    "h1=25\n",
    "h2=14\n",
    "output=2\n",
    "epochs = 20\n",
    "\n",
    "# Create the Model\n",
    "\n",
    "model = IrisNet1(input_size,h1,h2,output)"
   ]
  },
  {
   "cell_type": "code",
   "execution_count": 4,
   "metadata": {},
   "outputs": [],
   "source": [
    "#Choose Optimizer and Loss function\n",
    "\n",
    "criterion = nn.CrossEntropyLoss()\n",
    "optimizer = torch.optim.SGD(model.parameters(), lr=learning_rate, momentum=learning_momentum)"
   ]
  },
  {
   "cell_type": "code",
   "execution_count": 5,
   "metadata": {},
   "outputs": [],
   "source": [
    "#load dataset\n",
    "bank=pd.read_csv('E:\\\\M.tech_Projects\\\\Deep Neural Network\\\\Datasets\\\\Bank_Exit.csv')\n",
    "#display(bank)"
   ]
  },
  {
   "cell_type": "code",
   "execution_count": 6,
   "metadata": {},
   "outputs": [],
   "source": [
    "#Pick out relevant columns\n",
    "bank1 = bank.drop(['RowNumber', 'Cust_ID','Name','Country'], axis=1)\n",
    "#bank1.head()"
   ]
  },
  {
   "cell_type": "code",
   "execution_count": 7,
   "metadata": {},
   "outputs": [],
   "source": [
    "dummy = pd.get_dummies(bank['Country'])\n",
    "#dummy.head()"
   ]
  },
  {
   "cell_type": "code",
   "execution_count": 8,
   "metadata": {},
   "outputs": [],
   "source": [
    "bank1 = pd.concat([bank1, dummy], axis=1)\n",
    "#display(bank1)"
   ]
  },
  {
   "cell_type": "code",
   "execution_count": 9,
   "metadata": {},
   "outputs": [],
   "source": [
    "y = bank1.Exit\n",
    "x = bank1.drop('Exit', axis =1 )"
   ]
  },
  {
   "cell_type": "code",
   "execution_count": 10,
   "metadata": {},
   "outputs": [],
   "source": [
    "#load dataset\n",
    "#iris=load_iris()\n",
    "#x,y=iris.data,iris.target\n",
    "x_train,x_test,y_train,y_test=train_test_split(x,y,test_size=0.2,random_state=1)\n",
    "x_test,x_val,y_test,y_val=train_test_split(x_test,y_test,test_size=0.5,random_state=1)"
   ]
  },
  {
   "cell_type": "code",
   "execution_count": 11,
   "metadata": {},
   "outputs": [
    {
     "data": {
      "text/plain": [
       "(7992, 12)"
      ]
     },
     "metadata": {},
     "output_type": "display_data"
    },
    {
     "data": {
      "text/plain": [
       "(999, 12)"
      ]
     },
     "metadata": {},
     "output_type": "display_data"
    },
    {
     "data": {
      "text/plain": [
       "(999, 12)"
      ]
     },
     "metadata": {},
     "output_type": "display_data"
    },
    {
     "data": {
      "text/plain": [
       "(7992,)"
      ]
     },
     "metadata": {},
     "output_type": "display_data"
    },
    {
     "data": {
      "text/plain": [
       "(999,)"
      ]
     },
     "metadata": {},
     "output_type": "display_data"
    },
    {
     "data": {
      "text/plain": [
       "(999,)"
      ]
     },
     "metadata": {},
     "output_type": "display_data"
    }
   ],
   "source": [
    "display(x_train.shape)\n",
    "display(x_test.shape)\n",
    "display(x_val.shape)\n",
    "display(y_train.shape)\n",
    "display(y_test.shape)\n",
    "display(y_val.shape)"
   ]
  },
  {
   "cell_type": "code",
   "execution_count": 12,
   "metadata": {},
   "outputs": [],
   "source": [
    "from sklearn.preprocessing import StandardScaler\n",
    "sc = StandardScaler()\n",
    "x_train = sc.fit_transform(x_train)\n",
    "x_test = sc.fit_transform(x_test)\n",
    "x_val = sc.fit_transform(x_val)"
   ]
  },
  {
   "cell_type": "code",
   "execution_count": 13,
   "metadata": {},
   "outputs": [],
   "source": [
    "import numpy as np\n",
    "x_train = np.array(x_train)\n",
    "x_test = np.array(x_test)\n",
    "y_train = np.array(y_train)\n",
    "y_test = np.array(y_test)\n",
    "x_val = np.array(x_val)\n",
    "y_val = np.array(y_val)"
   ]
  },
  {
   "cell_type": "code",
   "execution_count": 14,
   "metadata": {},
   "outputs": [
    {
     "name": "stdout",
     "output_type": "stream",
     "text": [
      "Loaders ready\n"
     ]
    }
   ],
   "source": [
    "# Create DataLoaders\n",
    "\n",
    "# Create a dataset and loader for the training data and labels\n",
    "train_x = torch.Tensor(x_train).float()\n",
    "train_y = torch.Tensor(y_train).long()\n",
    "train_ds = utils.TensorDataset(train_x,train_y)\n",
    "train_loader = td.DataLoader(train_ds, batch_size=10,shuffle=True, num_workers=1)\n",
    "\n",
    "# Create a dataset and loader for the test data and labels\n",
    "test_x = torch.Tensor(x_test).float()\n",
    "test_y = torch.Tensor(y_test).long()\n",
    "test_ds = utils.TensorDataset(test_x,test_y)\n",
    "test_loader = td.DataLoader(test_ds, batch_size=10, shuffle=True, num_workers=1)\n",
    "\n",
    "# Create a dataset and loader for the test data and labels\n",
    "val_x = torch.Tensor(x_val).float()\n",
    "val_y = torch.Tensor(y_val).long()\n",
    "val_ds = utils.TensorDataset(val_x,val_y)\n",
    "val_loader = td.DataLoader(val_ds, batch_size=10, shuffle=True, num_workers=1)\n",
    "\n",
    "print(\"Loaders ready\")"
   ]
  },
  {
   "cell_type": "code",
   "execution_count": 15,
   "metadata": {},
   "outputs": [],
   "source": [
    "# Function to Train the model\n",
    "\n",
    "def train(model, data_loader, data_loader1, criterion,optimizer):\n",
    "    model.train()\n",
    "    train_loss = 0\n",
    "    valid_loss = 0\n",
    "    \n",
    "    for batch, tensor in enumerate(data_loader):\n",
    "        data, target = tensor\n",
    "        #feedforward\n",
    "        optimizer.zero_grad()\n",
    "        out = model(data)\n",
    "        loss = criterion(out, target)\n",
    "        train_loss += loss.item()\n",
    "        # backpropagate\n",
    "        loss.backward()\n",
    "        optimizer.step()\n",
    "        #train_loss += loss.item()\n",
    "## evaluation part \n",
    "    model.eval()\n",
    "    for batch1, tensor1 in enumerate(data_loader1):\n",
    "        data1, target1 = tensor1\n",
    "        output = model(data1)\n",
    "        loss1 = criterion(output, target1)\n",
    "        valid_loss += loss1.item()\n",
    "        \n",
    "        \n",
    "    #Return loss\n",
    "    avg_loss = train_loss / len(data_loader.dataset)\n",
    "    avg_loss1 = valid_loss/len(data_loader1.dataset)\n",
    "    return avg_loss, avg_loss1"
   ]
  },
  {
   "cell_type": "code",
   "execution_count": 16,
   "metadata": {},
   "outputs": [
    {
     "data": {
      "text/plain": [
       "999"
      ]
     },
     "execution_count": 16,
     "metadata": {},
     "output_type": "execute_result"
    }
   ],
   "source": [
    "len(val_loader.dataset)"
   ]
  },
  {
   "cell_type": "code",
   "execution_count": 17,
   "metadata": {},
   "outputs": [],
   "source": [
    "def test(model, data_loader,criterion):\n",
    "    # Switch the model to evaluation mode (so we don't backpropagate)\n",
    "    model.eval()\n",
    "    test_loss = 0\n",
    "    correct = 0\n",
    "\n",
    "    with torch.no_grad():\n",
    "        for batch, tensor in enumerate(data_loader):\n",
    "            data, target = tensor\n",
    "            # Get the predictions\n",
    "            out = model(data)\n",
    "\n",
    "            # calculate the loss\n",
    "            test_loss += criterion(out, target).item()\n",
    "\n",
    "            # Calculate the accuracy\n",
    "            _, predicted = torch.max(out.data, 1)\n",
    "            correct += torch.sum(target==predicted).item()\n",
    "            \n",
    "    # return validation loss and prediction accuracy for the epoch\n",
    "    avg_accuracy = correct / len(data_loader.dataset)\n",
    "    avg_loss = test_loss / len(data_loader.dataset)\n",
    "    \n",
    "    return avg_loss, avg_accuracy"
   ]
  },
  {
   "cell_type": "code",
   "execution_count": 18,
   "metadata": {},
   "outputs": [
    {
     "name": "stdout",
     "output_type": "stream",
     "text": [
      "Epoch 1: Training loss= 0.0422, Validation loss= 0.0394\n",
      "Epoch 2: Training loss= 0.0359, Validation loss= 0.0362\n",
      "Epoch 3: Training loss= 0.0350, Validation loss= 0.0361\n",
      "Epoch 4: Training loss= 0.0345, Validation loss= 0.0356\n",
      "Epoch 5: Training loss= 0.0341, Validation loss= 0.0349\n",
      "Epoch 6: Training loss= 0.0340, Validation loss= 0.0358\n",
      "Epoch 7: Training loss= 0.0339, Validation loss= 0.0353\n",
      "Epoch 8: Training loss= 0.0336, Validation loss= 0.0346\n",
      "Epoch 9: Training loss= 0.0334, Validation loss= 0.0344\n",
      "Epoch 10: Training loss= 0.0334, Validation loss= 0.0350\n",
      "Epoch 11: Training loss= 0.0333, Validation loss= 0.0354\n",
      "Epoch 12: Training loss= 0.0330, Validation loss= 0.0348\n",
      "Epoch 13: Training loss= 0.0330, Validation loss= 0.0340\n",
      "Epoch 14: Training loss= 0.0330, Validation loss= 0.0350\n",
      "Epoch 15: Training loss= 0.0328, Validation loss= 0.0348\n",
      "Epoch 16: Training loss= 0.0326, Validation loss= 0.0358\n",
      "Epoch 17: Training loss= 0.0326, Validation loss= 0.0365\n",
      "Epoch 18: Training loss= 0.0326, Validation loss= 0.0342\n",
      "Epoch 19: Training loss= 0.0323, Validation loss= 0.0348\n",
      "Epoch 20: Training loss= 0.0325, Validation loss= 0.0358\n"
     ]
    }
   ],
   "source": [
    "#Train the model - track metrics for each epoch in these arrays\n",
    "epoch_nums = []\n",
    "training_loss = []\n",
    "validation_loss = []\n",
    "\n",
    "\n",
    "# Train over set epochs\n",
    "\n",
    "for epoch in range(1, epochs + 1):\n",
    "    \n",
    "    # Feed the training data into the model to optimize the weights\n",
    "    train_loss,valid_loss = train(model, train_loader,val_loader, criterion, optimizer)\n",
    "    \n",
    "    # Log the metrcs for this epoch\n",
    "    epoch_nums.append(epoch)\n",
    "    training_loss.append(train_loss)\n",
    "    validation_loss.append(valid_loss)\n",
    "    \n",
    "    # Print stats for every 10th epoch so we can see training progress\n",
    "    if (epoch) % 1 == 0:\n",
    "        print('Epoch {:d}: Training loss= {:.4f}, Validation loss= {:.4f}'.format(epoch, train_loss, valid_loss))"
   ]
  },
  {
   "cell_type": "code",
   "execution_count": 23,
   "metadata": {},
   "outputs": [
    {
     "data": {
      "image/png": "[encoded data removed]",
      "text/plain": [
       "<Figure size 432x288 with 1 Axes>"
      ]
     },
     "metadata": {
      "needs_background": "light"
     },
     "output_type": "display_data"
    }
   ],
   "source": [
    "#Training and Validation Loss\n",
    "from matplotlib import pyplot as plt\n",
    "\n",
    "plt.plot(epoch_nums, training_loss)\n",
    "plt.plot(epoch_nums, validation_loss)\n",
    "plt.xlabel('epoch')\n",
    "plt.ylabel('loss')\n",
    "plt.legend(['training', 'validation'], loc='upper right')\n",
    "plt.show()"
   ]
  },
  {
   "cell_type": "code",
   "execution_count": 20,
   "metadata": {},
   "outputs": [
    {
     "name": "stdout",
     "output_type": "stream",
     "text": [
      "fc1.weight \n",
      " [[ 1.02072572e-02 -2.49030665e-02 -3.00564677e-01  2.64528245e-02\n",
      "  -4.93601829e-01  1.21913940e-01 -5.02565742e-01  1.50571078e-01\n",
      "   3.89186181e-02 -3.75389189e-01  2.66738236e-01  2.55696416e-01]\n",
      " [-4.11263146e-02  4.51394230e-01 -8.70210767e-01  4.73666377e-02\n",
      "  -5.20735562e-01 -1.60372406e-01  8.82211328e-02  1.45516604e-01\n",
      "   6.27584755e-02 -2.35922918e-01  4.63639386e-02  2.71068439e-02]\n",
      " [ 4.11214769e-01 -1.54997446e-02 -2.39469837e-02  2.04528764e-01\n",
      "   1.44327641e-01 -8.34108055e-01 -2.10929707e-01 -1.34795621e-01\n",
      "   1.49018884e-01  1.23192236e-01 -1.22640252e-01 -2.68940963e-02]\n",
      " [-1.09611377e-02 -4.51839380e-02 -1.50589630e-01 -6.02980377e-03\n",
      "  -1.38838470e+00 -1.66931200e+00  1.40558491e-02  7.03715310e-02\n",
      "   1.09693606e-03 -4.05226529e-01  4.40857202e-01 -1.34337962e-01]\n",
      " [ 2.88457274e-01  3.75889167e-02  2.57496864e-01  2.96666324e-01\n",
      "   3.93969566e-01  4.19062048e-01  1.71792820e-01 -1.76403031e-01\n",
      "  -5.11230946e-01 -3.69953901e-01  1.28825121e-02  1.81520477e-01]\n",
      " [-4.19429727e-02  2.50157546e-02 -5.63568212e-02 -8.18067640e-02\n",
      "  -1.35696024e-01 -3.23326178e-02  3.34398568e-01 -1.07678550e-03\n",
      "  -4.39821064e-01  1.20531909e-01 -1.47541225e-01 -1.90230936e-01]\n",
      " [-3.48534994e-02  2.59040982e-01 -3.62793446e-01  1.89026035e-02\n",
      "  -2.25852221e-01 -2.39458039e-01 -2.49382094e-01  1.95252560e-02\n",
      "  -5.17979622e-01  4.79297966e-01 -2.12506518e-01 -4.22868371e-01]\n",
      " [-4.36534494e-01  2.48214439e-01  1.28003657e+00 -4.85624284e-01\n",
      "   1.73261940e-01 -6.23514235e-01 -1.17846392e-01  1.64923653e-01\n",
      "   2.07626805e-01  7.71516487e-02  8.97249281e-02 -4.48012412e-01]\n",
      " [-3.20335291e-02  9.31858122e-02 -2.36651778e-01  1.79995922e-03\n",
      "   1.69783942e-02  2.62118429e-01  2.48684943e-01 -1.73049346e-02\n",
      "   2.69210398e-01  1.44137204e-01  2.33623624e-01 -6.77610859e-02]\n",
      " [-1.73356771e-01 -2.44384795e-01 -4.72445935e-01 -4.49895293e-01\n",
      "   5.03718294e-02 -2.21651673e-01  3.34039509e-01  4.08460528e-01\n",
      "   3.11066777e-01 -1.17154047e-01  2.91445047e-01 -1.41036287e-01]\n",
      " [-3.47152323e-01  2.69447826e-02  5.72569311e-01 -8.01037848e-02\n",
      "  -4.15525436e-02 -2.27710322e-01 -3.58051538e-01 -8.42170119e-01\n",
      "   1.34269044e-01  9.15311277e-03 -9.57655534e-02  1.64186805e-01]\n",
      " [ 1.63476709e-02 -2.51505435e-01 -2.32797071e-01  3.46340805e-01\n",
      "   1.68412514e-02  3.36420536e-02  3.09601098e-01  6.92464858e-02\n",
      "  -3.57733190e-01  2.03978628e-01 -3.73811305e-01  2.10948169e-01]\n",
      " [ 1.33268178e-01  1.57969594e-01 -4.30821002e-01  4.11776692e-01\n",
      "  -3.50467823e-02  9.96977836e-02  4.20757651e-01  2.92688906e-01\n",
      "  -7.92121217e-02  2.24369988e-01 -4.15170670e-01  2.82475889e-01]\n",
      " [-1.05824545e-01 -5.11906222e-02  1.91209465e-01 -4.11057100e-02\n",
      "   5.86593032e-01  1.96126151e+00 -1.30618945e-01  2.71970540e-01\n",
      "   7.31022507e-02 -1.23575136e-01 -6.49432600e-01  1.49612039e-01]\n",
      " [ 6.63235664e-01  1.90089330e-01 -1.12544112e-01 -1.24160908e-01\n",
      "  -1.01379633e-01  2.25968853e-01  2.22921818e-01  2.81608671e-01\n",
      "   7.14243129e-02 -2.44032890e-01 -3.69054973e-01  2.81754404e-01]\n",
      " [-1.82523444e-01 -2.01291200e-02  2.78231561e-01  1.18933320e-01\n",
      "  -3.70726764e-01 -2.94109076e-01 -1.37816355e-01 -5.08252680e-02\n",
      "   8.77706781e-02 -1.88475594e-01  2.10348815e-01 -2.52479315e-01]\n",
      " [ 5.20495661e-02  1.64415509e-01  1.18088984e+00  1.77750126e-01\n",
      "  -2.46749222e-01 -1.33225068e-01  3.77046540e-02  8.53176177e-01\n",
      "   9.79744792e-02  1.36607841e-01  1.35642931e-01  5.35338782e-02]\n",
      " [ 6.69950902e-01  1.50973707e-01  7.26998866e-01 -1.57590628e-01\n",
      "  -4.39319253e-01  8.29696879e-02 -1.57701403e-01  1.26651555e-01\n",
      "  -3.05557717e-02  2.21829325e-01 -3.81755352e-01 -2.08207116e-01]\n",
      " [-2.59348273e-01  3.01913351e-01  5.82833409e-01  2.13822827e-01\n",
      "  -1.10820860e-01 -7.85999224e-02 -3.58626060e-02  7.46410251e-01\n",
      "   3.41224186e-02  1.99750260e-01  2.01104004e-02  3.98369610e-01]\n",
      " [-4.45380181e-01 -5.04433751e-01  7.95943961e-02 -3.28829080e-01\n",
      "  -7.83256441e-02  4.25691664e-01 -1.52317043e-02 -7.01117292e-02\n",
      "   4.92565781e-02 -1.49410451e-02 -2.73537654e-02  2.78587379e-02]\n",
      " [-1.00744225e-01 -3.04267108e-01  1.30725503e-01 -2.73652494e-01\n",
      "   9.54706296e-02 -4.07092065e-01  4.25264359e-01 -5.30825734e-01\n",
      "  -3.56368236e-02 -3.08699101e-01  1.61074519e-01 -1.59054816e-01]\n",
      " [ 1.52429482e-02  6.13502622e-01 -4.28907514e-01  7.08699897e-02\n",
      "  -1.59380615e-01 -2.78426111e-01 -1.77171797e-01  2.33565152e-01\n",
      "   1.10534295e-01  1.00052625e-01 -1.48290098e-01 -3.97728682e-01]\n",
      " [-1.21697664e-01 -2.72849016e-02 -1.37703627e-01 -3.94149899e-01\n",
      "   1.00799717e-01 -1.31991029e-01  2.44148776e-01  4.49399948e-01\n",
      "   1.10958420e-01  3.57341409e-01  4.56307948e-01 -2.66598284e-01]\n",
      " [-1.18018344e-01  2.60586619e-01 -4.85870615e-02  2.72560298e-01\n",
      "  -5.85106611e-02  7.60086238e-01  3.19879323e-01  1.46328002e-01\n",
      "   2.98558831e-01  2.01314434e-01  7.44581819e-02  7.67568499e-02]\n",
      " [-7.07054883e-02  4.89036227e-03 -1.65062118e+00 -1.39960587e-01\n",
      "  -1.93595454e-01 -8.53146315e-02 -2.71467745e-01 -5.21402001e-01\n",
      "   9.81616452e-02  4.19324070e-01  1.90746114e-02 -7.10207969e-04]]\n",
      "fc1.bias \n",
      " [-0.18419443  0.56097615 -0.07876038 -0.4672556  -0.31002983  0.0626836\n",
      "  0.04655383 -0.81369704 -0.05137964  0.06643759 -0.44939122 -0.15912065\n",
      "  0.4784377  -1.6519897  -0.3955101  -0.08976065 -1.4399068  -0.4562952\n",
      " -0.47227886 -0.1518266  -0.16419005  0.5108903   0.01276867 -0.09981096\n",
      "  0.98581696]\n",
      "fc2.weight \n",
      " [[ 3.15573514e-01  9.44852158e-02 -4.39604670e-01 -6.84423864e-01\n",
      "   4.21104491e-01  8.66522118e-02 -2.53645003e-01  2.98288226e-01\n",
      "  -1.65783569e-01 -4.17952120e-01 -2.25172058e-01  2.89603382e-01\n",
      "   3.69404078e-01 -2.67493963e-01  1.13944329e-01  1.76175192e-01\n",
      "   3.00640017e-01  1.33763045e-01  3.10042381e-01  2.57291913e-01\n",
      "  -1.37800351e-01 -3.58186275e-01 -1.91892639e-01 -1.77907079e-01\n",
      "  -3.88830006e-02]\n",
      " [-1.35871768e-01  9.35528874e-02  1.48459867e-01 -9.84268636e-02\n",
      "  -1.69512898e-01  1.37580872e-01 -4.17538546e-02  1.93122298e-01\n",
      "  -7.88471848e-02  1.18775859e-01 -3.69185805e-02 -2.26574652e-02\n",
      "  -1.55219883e-01 -1.39604919e-02 -1.78485647e-01  1.97380316e-02\n",
      "  -2.59235263e-01 -4.35684025e-01 -3.69619927e-04  5.72399832e-02\n",
      "   1.25817552e-01 -6.15416355e-02  1.80018380e-01 -1.58640102e-01\n",
      "  -4.69337195e-01]\n",
      " [ 8.09145719e-02  1.22875557e-04  9.69924629e-02 -2.64314294e-01\n",
      "   8.46494883e-02 -1.52454823e-01  1.12764142e-01 -8.70193541e-02\n",
      "  -8.47659186e-02  2.02675864e-01  6.94010556e-02  1.26551136e-01\n",
      "   1.76241711e-01  1.73886064e-02 -1.61676452e-01  1.40823647e-02\n",
      "   1.19409606e-01  3.23223956e-02 -2.43880153e-01 -7.34942257e-02\n",
      "  -2.10429169e-02 -7.63064176e-02 -5.85294478e-02 -1.32423744e-01\n",
      "  -6.41685575e-02]\n",
      " [ 8.05230513e-02 -2.96724856e-01  3.38085517e-02  7.01818615e-02\n",
      "   8.02317560e-02  4.05089378e-01  2.65552849e-03  4.58741605e-01\n",
      "  -2.05667555e-01 -1.50217131e-01  3.78789127e-01  3.22516561e-01\n",
      "  -1.06080703e-01 -2.42193595e-01 -1.33140415e-01  6.49488047e-02\n",
      "  -3.55705827e-01  9.36944187e-02 -5.66758104e-02  3.18461329e-01\n",
      "  -7.29398802e-02  2.41418872e-02  2.17211515e-01 -1.08617522e-01\n",
      "  -6.18269801e-01]\n",
      " [ 3.25496085e-02 -1.13232508e-01  1.48809150e-01 -5.64971641e-02\n",
      "  -8.66966322e-02  1.87715113e-01 -1.43628389e-01 -5.46285696e-02\n",
      "   1.82853341e-01 -8.60456154e-02 -4.93303537e-02  1.90701157e-01\n",
      "  -5.78760840e-02  8.80651474e-02  7.04663172e-02  3.97068225e-02\n",
      "  -1.69116333e-01 -1.33808136e-01 -1.61608011e-01 -1.97312549e-01\n",
      "  -6.49034828e-02  3.82734314e-02 -1.73217252e-01 -1.80820256e-01\n",
      "   3.03779747e-02]\n",
      " [-7.59520307e-02 -6.59257621e-02  5.59486113e-02  1.66784167e-01\n",
      "   3.10213923e-01 -3.42971951e-01 -2.93168098e-01 -4.45982009e-01\n",
      "   1.09652296e-01  3.37846251e-03  1.13961600e-01 -1.35410801e-01\n",
      "   2.14255936e-02  7.27370143e-01 -1.26083687e-01 -1.49208322e-01\n",
      "  -1.13473751e-01 -3.23946804e-01 -4.34455991e-01  5.08576989e-01\n",
      "  -3.70621145e-01 -9.67684388e-02 -3.81873995e-01  5.25600493e-01\n",
      "   5.58942594e-02]\n",
      " [ 1.55275822e-01  7.07049519e-02 -3.55416149e-01 -8.64930511e-01\n",
      "  -3.91692698e-01  8.22870806e-03 -1.17205776e-01  9.88277420e-02\n",
      "   1.74966380e-01  6.09850623e-02  4.06051427e-03 -2.90327787e-01\n",
      "  -1.12044230e-01 -5.81141949e-01 -8.68941844e-02 -2.73572236e-01\n",
      "   1.86968416e-01  6.69497192e-01 -2.23576501e-01 -3.11548591e-01\n",
      "  -5.08773267e-01  1.87903091e-01  1.14450492e-01  8.81271288e-02\n",
      "   2.43433043e-01]\n",
      " [-1.52426045e-02  9.50502977e-02 -2.45349720e-01 -2.54393637e-01\n",
      "  -2.88612813e-01  6.06729239e-02  1.57687843e-01  1.34457067e-01\n",
      "   2.37248037e-02 -2.02509627e-01 -2.30147988e-02  3.16216722e-02\n",
      "   9.88282636e-02 -9.03733149e-02 -1.85326219e-01 -5.12642525e-02\n",
      "   1.52302980e-01  1.35489032e-01 -9.71299708e-02 -1.25047453e-02\n",
      "  -3.55073124e-01 -1.18161462e-01 -4.55069821e-03  5.89485373e-03\n",
      "   7.50303343e-02]\n",
      " [ 1.29567027e-01  9.51185226e-02  2.34387070e-01 -3.12592417e-01\n",
      "  -2.04533085e-01 -2.07803324e-01 -3.27261120e-01 -4.77208495e-02\n",
      "  -2.66397838e-02  2.58014649e-02 -1.96962610e-01 -2.05841482e-01\n",
      "   1.02329224e-01 -4.37310517e-01  1.93563715e-01 -3.66587266e-02\n",
      "  -8.20077434e-02 -9.58830267e-02 -5.09009957e-02 -1.59117058e-01\n",
      "  -4.61222947e-01  2.56185830e-01  2.66148299e-01  3.18782479e-01\n",
      "  -4.57087994e-01]\n",
      " [-1.37891352e-01 -7.07910299e-01  2.13671476e-01  3.75335068e-01\n",
      "   3.60842019e-01  8.62972140e-02 -2.63798296e-01  1.32402703e-02\n",
      "   2.44834110e-01 -4.79616433e-01  3.34646732e-01 -4.34655488e-01\n",
      "  -4.91073877e-01  4.64384645e-01  5.01378536e-01  1.68047637e-01\n",
      "  -1.09118211e+00  3.78838420e-01 -6.89710796e-01  3.72567251e-02\n",
      "  -3.40344682e-02 -3.68369430e-01 -1.91164926e-01  3.69354993e-01\n",
      "  -1.06406951e+00]\n",
      " [-2.62284845e-01 -3.04869801e-01  7.94609264e-02 -4.80880797e-01\n",
      "  -7.27309287e-02  6.14977255e-02  1.54041946e-01 -4.52564694e-02\n",
      "  -1.78122982e-01  1.10722892e-01  1.56949446e-01  1.87064603e-01\n",
      "   1.63919747e-01 -1.53164744e-01 -6.26035407e-03  1.28375192e-03\n",
      "   1.21716715e-01 -9.59792733e-03  2.31352717e-01 -6.98947012e-02\n",
      "  -9.32838842e-02 -9.53507125e-02 -5.35989515e-02 -1.31037533e-01\n",
      "  -2.13624582e-01]\n",
      " [-1.27883419e-01  3.82748991e-02  6.69167861e-02 -7.11932480e-02\n",
      "   5.36802821e-02 -1.07892834e-01 -1.95532382e-01  1.26940534e-02\n",
      "   1.91461772e-01 -1.52856693e-01  6.74813539e-02 -1.04681052e-01\n",
      "  -3.16859335e-02  9.25329104e-02 -9.64321569e-02 -1.74417779e-01\n",
      "   1.86646229e-03 -2.61917841e-02  1.64412290e-01  1.11314185e-01\n",
      "   9.84745547e-02 -1.25249356e-01 -1.85843870e-01 -1.11140341e-01\n",
      "  -1.55153081e-01]\n",
      " [ 2.65928030e-01  9.66863185e-02 -1.02137581e-01 -5.89466631e-01\n",
      "  -1.57605261e-01  1.19844466e-01  5.16360521e-01 -1.07698262e+00\n",
      "   2.20274523e-01  2.88636893e-01  1.78389132e-01  8.28721002e-02\n",
      "   7.11765662e-02 -6.09195888e-01  4.91627842e-01 -3.11214566e-01\n",
      "  -5.82583845e-01 -6.50926888e-01  3.34519260e-02  2.28932470e-01\n",
      "  -1.86793551e-01  3.16603303e-01  3.69546294e-01  4.16931868e-01\n",
      "   2.14932635e-02]\n",
      " [-3.64424288e-02  6.52949139e-03 -2.45006114e-01 -1.82865202e-01\n",
      "  -1.07121877e-02 -9.03084651e-02 -2.48468965e-01  3.51032764e-01\n",
      "  -1.55032799e-01 -2.84343839e-01 -2.35390365e-02  1.49204150e-01\n",
      "  -3.26429278e-01  1.06593624e-01  3.53437290e-02  7.45375678e-02\n",
      "   4.87856001e-01  1.96862534e-01  1.31449312e-01 -2.52928764e-01\n",
      "   7.33576640e-02 -1.83948517e-01 -1.80022910e-01 -1.22478291e-01\n"
     ]
    },
    {
     "name": "stdout",
     "output_type": "stream",
     "text": [
      "   4.84572724e-02]]\n",
      "fc2.bias \n",
      " [ 0.01260262 -0.08565702 -0.2529659   0.3865987  -0.17958122 -0.8464944\n",
      "  0.12035268 -0.07215412  0.12903762 -0.27588287 -0.06357203 -0.10875456\n",
      "  1.2985299  -0.59048784]\n",
      "fc3.weight \n",
      " [[ 0.24392018 -0.43497086 -0.08603864 -0.25516057  0.13950694 -0.6899831\n",
      "   0.44354698  0.02229071  0.1812639  -0.42035258 -0.35514212  0.02070064\n",
      "   0.29948935  0.22233588]\n",
      " [-0.30448195 -0.04073517  0.16742332  0.2887204   0.22845195  0.5218755\n",
      "  -0.0827741  -0.28110895 -0.3799019   0.6794317   0.14062358  0.17422727\n",
      "  -0.27951568 -0.55516434]]\n",
      "fc3.bias \n",
      " [ 0.29445547 -0.20211247]\n"
     ]
    }
   ],
   "source": [
    "# Learned Weights and Biases\n",
    "for param_tensor in model.state_dict():\n",
    "    print(param_tensor, \"\\n\", model.state_dict()[param_tensor].numpy())"
   ]
  },
  {
   "cell_type": "code",
   "execution_count": 21,
   "metadata": {},
   "outputs": [],
   "source": [
    "test_loss, accuracy = test(model, test_loader,criterion)"
   ]
  },
  {
   "cell_type": "code",
   "execution_count": 22,
   "metadata": {},
   "outputs": [
    {
     "name": "stdout",
     "output_type": "stream",
     "text": [
      "Test loss= 0.0358, Accuracy=85.5856%\n"
     ]
    }
   ],
   "source": [
    " print('Test loss= {:.4f}, Accuracy={:.4%}'.format(test_loss, accuracy))"
   ]
  },
  {
   "cell_type": "code",
   "execution_count": null,
   "metadata": {},
   "outputs": [],
   "source": []
  }
 ],
 "metadata": {
  "kernelspec": {
   "display_name": "Python 3",
   "language": "python",
   "name": "python3"
  },
  "language_info": {
   "codemirror_mode": {
    "name": "ipython",
    "version": 3
   },
   "file_extension": ".py",
   "mimetype": "text/x-python",
   "name": "python",
   "nbconvert_exporter": "python",
   "pygments_lexer": "ipython3",
   "version": "3.7.3"
  }
 },
 "nbformat": 4,
 "nbformat_minor": 2
}
